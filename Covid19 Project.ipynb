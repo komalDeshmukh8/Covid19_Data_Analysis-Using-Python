{
  "nbformat": 4,
  "nbformat_minor": 0,
  "metadata": {
    "colab": {
      "provenance": []
    },
    "kernelspec": {
      "name": "python3",
      "display_name": "Python 3"
    },
    "language_info": {
      "name": "python"
    }
  },
  "cells": [
    {
      "cell_type": "code",
      "execution_count": null,
      "metadata": {
        "id": "vwcvgvCB3pAW"
      },
      "outputs": [],
      "source": [
        "import pandas as pd\n",
        "import numpy as np\n",
        "import matplotlib.pyplot as plt"
      ]
    },
    {
      "cell_type": "code",
      "source": [
        " full_data = pd.read_csv(\"https://catalog.ourworldindata.org/garden/covid/latest/compact/compact.csv\")"
      ],
      "metadata": {
        "id": "bHaFxQpk-pj5"
      },
      "execution_count": null,
      "outputs": []
    },
    {
      "cell_type": "code",
      "source": [
        "full_Data.shape"
      ],
      "metadata": {
        "colab": {
          "base_uri": "https://localhost:8080/"
        },
        "id": "5NSexjY4-4_0",
        "outputId": "a8e49aa5-63ac-4df7-9b11-22742916558a"
      },
      "execution_count": null,
      "outputs": [
        {
          "output_type": "execute_result",
          "data": {
            "text/plain": [
              "(515215, 61)"
            ]
          },
          "metadata": {},
          "execution_count": 13
        }
      ]
    },
    {
      "cell_type": "code",
      "source": [
        "full_Data.columns\n"
      ],
      "metadata": {
        "colab": {
          "base_uri": "https://localhost:8080/"
        },
        "id": "f99Zay3R-5mC",
        "outputId": "99cc984d-3b10-4504-cc0d-f75fb7789fb1"
      },
      "execution_count": null,
      "outputs": [
        {
          "output_type": "execute_result",
          "data": {
            "text/plain": [
              "Index(['country', 'date', 'total_cases', 'new_cases', 'new_cases_smoothed',\n",
              "       'total_cases_per_million', 'new_cases_per_million',\n",
              "       'new_cases_smoothed_per_million', 'total_deaths', 'new_deaths',\n",
              "       'new_deaths_smoothed', 'total_deaths_per_million',\n",
              "       'new_deaths_per_million', 'new_deaths_smoothed_per_million',\n",
              "       'excess_mortality', 'excess_mortality_cumulative',\n",
              "       'excess_mortality_cumulative_absolute',\n",
              "       'excess_mortality_cumulative_per_million', 'hosp_patients',\n",
              "       'hosp_patients_per_million', 'weekly_hosp_admissions',\n",
              "       'weekly_hosp_admissions_per_million', 'icu_patients',\n",
              "       'icu_patients_per_million', 'weekly_icu_admissions',\n",
              "       'weekly_icu_admissions_per_million', 'stringency_index',\n",
              "       'reproduction_rate', 'total_tests', 'new_tests',\n",
              "       'total_tests_per_thousand', 'new_tests_per_thousand',\n",
              "       'new_tests_smoothed', 'new_tests_smoothed_per_thousand',\n",
              "       'positive_rate', 'tests_per_case', 'total_vaccinations',\n",
              "       'people_vaccinated', 'people_fully_vaccinated', 'total_boosters',\n",
              "       'new_vaccinations', 'new_vaccinations_smoothed',\n",
              "       'total_vaccinations_per_hundred', 'people_vaccinated_per_hundred',\n",
              "       'people_fully_vaccinated_per_hundred', 'total_boosters_per_hundred',\n",
              "       'new_vaccinations_smoothed_per_million',\n",
              "       'new_people_vaccinated_smoothed',\n",
              "       'new_people_vaccinated_smoothed_per_hundred', 'code', 'continent',\n",
              "       'population', 'population_density', 'median_age', 'life_expectancy',\n",
              "       'gdp_per_capita', 'extreme_poverty', 'diabetes_prevalence',\n",
              "       'handwashing_facilities', 'hospital_beds_per_thousand',\n",
              "       'human_development_index'],\n",
              "      dtype='object')"
            ]
          },
          "metadata": {},
          "execution_count": 14
        }
      ]
    },
    {
      "cell_type": "code",
      "source": [
        "full_Data.head(10)"
      ],
      "metadata": {
        "colab": {
          "base_uri": "https://localhost:8080/",
          "height": 586
        },
        "id": "qhpwMxk8BgO9",
        "outputId": "e06ef5e7-ae1a-45b3-d52b-2c59fb38d88a"
      },
      "execution_count": null,
      "outputs": [
        {
          "output_type": "execute_result",
          "data": {
            "text/plain": [
              "       country        date  total_cases  new_cases  new_cases_smoothed  \\\n",
              "0  Afghanistan  2020-01-01          NaN        NaN                 NaN   \n",
              "1  Afghanistan  2020-01-02          NaN        NaN                 NaN   \n",
              "2  Afghanistan  2020-01-03          NaN        NaN                 NaN   \n",
              "3  Afghanistan  2020-01-04          0.0        0.0                 NaN   \n",
              "4  Afghanistan  2020-01-05          0.0        0.0                 NaN   \n",
              "5  Afghanistan  2020-01-06          0.0        0.0                 NaN   \n",
              "6  Afghanistan  2020-01-07          0.0        0.0                 NaN   \n",
              "7  Afghanistan  2020-01-08          0.0        0.0                 NaN   \n",
              "8  Afghanistan  2020-01-09          0.0        0.0                 0.0   \n",
              "9  Afghanistan  2020-01-10          0.0        0.0                 0.0   \n",
              "\n",
              "   total_cases_per_million  new_cases_per_million  \\\n",
              "0                      NaN                    NaN   \n",
              "1                      NaN                    NaN   \n",
              "2                      NaN                    NaN   \n",
              "3                      0.0                    0.0   \n",
              "4                      0.0                    0.0   \n",
              "5                      0.0                    0.0   \n",
              "6                      0.0                    0.0   \n",
              "7                      0.0                    0.0   \n",
              "8                      0.0                    0.0   \n",
              "9                      0.0                    0.0   \n",
              "\n",
              "   new_cases_smoothed_per_million  total_deaths  new_deaths  ...  population  \\\n",
              "0                             NaN           NaN         NaN  ...  40578801.0   \n",
              "1                             NaN           NaN         NaN  ...  40578801.0   \n",
              "2                             NaN           NaN         NaN  ...  40578801.0   \n",
              "3                             NaN           0.0         0.0  ...  40578801.0   \n",
              "4                             NaN           0.0         0.0  ...  40578801.0   \n",
              "5                             NaN           0.0         0.0  ...  40578801.0   \n",
              "6                             NaN           0.0         0.0  ...  40578801.0   \n",
              "7                             NaN           0.0         0.0  ...  40578801.0   \n",
              "8                             0.0           0.0         0.0  ...  40578801.0   \n",
              "9                             0.0           0.0         0.0  ...  40578801.0   \n",
              "\n",
              "   population_density  median_age  life_expectancy  gdp_per_capita  \\\n",
              "0           62.215477   16.752001              NaN     1516.273315   \n",
              "1           62.215477   16.752001              NaN     1516.273315   \n",
              "2           62.215477   16.752001              NaN     1516.273315   \n",
              "3           62.215477   16.752001              NaN     1516.273315   \n",
              "4           62.215477   16.752001              NaN     1516.273315   \n",
              "5           62.215477   16.752001              NaN     1516.273315   \n",
              "6           62.215477   16.752001              NaN     1516.273315   \n",
              "7           62.215477   16.752001              NaN     1516.273315   \n",
              "8           62.215477   16.752001              NaN     1516.273315   \n",
              "9           62.215477   16.752001              NaN     1516.273315   \n",
              "\n",
              "   extreme_poverty  diabetes_prevalence  handwashing_facilities  \\\n",
              "0              NaN                 10.9               48.214695   \n",
              "1              NaN                 10.9               48.214695   \n",
              "2              NaN                 10.9               48.214695   \n",
              "3              NaN                 10.9               48.214695   \n",
              "4              NaN                 10.9               48.214695   \n",
              "5              NaN                 10.9               48.214695   \n",
              "6              NaN                 10.9               48.214695   \n",
              "7              NaN                 10.9               48.214695   \n",
              "8              NaN                 10.9               48.214695   \n",
              "9              NaN                 10.9               48.214695   \n",
              "\n",
              "   hospital_beds_per_thousand  human_development_index  \n",
              "0                        0.39                      NaN  \n",
              "1                        0.39                      NaN  \n",
              "2                        0.39                      NaN  \n",
              "3                        0.39                      NaN  \n",
              "4                        0.39                      NaN  \n",
              "5                        0.39                      NaN  \n",
              "6                        0.39                      NaN  \n",
              "7                        0.39                      NaN  \n",
              "8                        0.39                      NaN  \n",
              "9                        0.39                      NaN  \n",
              "\n",
              "[10 rows x 61 columns]"
            ],
            "text/html": [
              "\n",
              "  <div id=\"df-83791b93-2956-4b23-8d89-fc2b53bc3b32\" class=\"colab-df-container\">\n",
              "    <div>\n",
              "<style scoped>\n",
              "    .dataframe tbody tr th:only-of-type {\n",
              "        vertical-align: middle;\n",
              "    }\n",
              "\n",
              "    .dataframe tbody tr th {\n",
              "        vertical-align: top;\n",
              "    }\n",
              "\n",
              "    .dataframe thead th {\n",
              "        text-align: right;\n",
              "    }\n",
              "</style>\n",
              "<table border=\"1\" class=\"dataframe\">\n",
              "  <thead>\n",
              "    <tr style=\"text-align: right;\">\n",
              "      <th></th>\n",
              "      <th>country</th>\n",
              "      <th>date</th>\n",
              "      <th>total_cases</th>\n",
              "      <th>new_cases</th>\n",
              "      <th>new_cases_smoothed</th>\n",
              "      <th>total_cases_per_million</th>\n",
              "      <th>new_cases_per_million</th>\n",
              "      <th>new_cases_smoothed_per_million</th>\n",
              "      <th>total_deaths</th>\n",
              "      <th>new_deaths</th>\n",
              "      <th>...</th>\n",
              "      <th>population</th>\n",
              "      <th>population_density</th>\n",
              "      <th>median_age</th>\n",
              "      <th>life_expectancy</th>\n",
              "      <th>gdp_per_capita</th>\n",
              "      <th>extreme_poverty</th>\n",
              "      <th>diabetes_prevalence</th>\n",
              "      <th>handwashing_facilities</th>\n",
              "      <th>hospital_beds_per_thousand</th>\n",
              "      <th>human_development_index</th>\n",
              "    </tr>\n",
              "  </thead>\n",
              "  <tbody>\n",
              "    <tr>\n",
              "      <th>0</th>\n",
              "      <td>Afghanistan</td>\n",
              "      <td>2020-01-01</td>\n",
              "      <td>NaN</td>\n",
              "      <td>NaN</td>\n",
              "      <td>NaN</td>\n",
              "      <td>NaN</td>\n",
              "      <td>NaN</td>\n",
              "      <td>NaN</td>\n",
              "      <td>NaN</td>\n",
              "      <td>NaN</td>\n",
              "      <td>...</td>\n",
              "      <td>40578801.0</td>\n",
              "      <td>62.215477</td>\n",
              "      <td>16.752001</td>\n",
              "      <td>NaN</td>\n",
              "      <td>1516.273315</td>\n",
              "      <td>NaN</td>\n",
              "      <td>10.9</td>\n",
              "      <td>48.214695</td>\n",
              "      <td>0.39</td>\n",
              "      <td>NaN</td>\n",
              "    </tr>\n",
              "    <tr>\n",
              "      <th>1</th>\n",
              "      <td>Afghanistan</td>\n",
              "      <td>2020-01-02</td>\n",
              "      <td>NaN</td>\n",
              "      <td>NaN</td>\n",
              "      <td>NaN</td>\n",
              "      <td>NaN</td>\n",
              "      <td>NaN</td>\n",
              "      <td>NaN</td>\n",
              "      <td>NaN</td>\n",
              "      <td>NaN</td>\n",
              "      <td>...</td>\n",
              "      <td>40578801.0</td>\n",
              "      <td>62.215477</td>\n",
              "      <td>16.752001</td>\n",
              "      <td>NaN</td>\n",
              "      <td>1516.273315</td>\n",
              "      <td>NaN</td>\n",
              "      <td>10.9</td>\n",
              "      <td>48.214695</td>\n",
              "      <td>0.39</td>\n",
              "      <td>NaN</td>\n",
              "    </tr>\n",
              "    <tr>\n",
              "      <th>2</th>\n",
              "      <td>Afghanistan</td>\n",
              "      <td>2020-01-03</td>\n",
              "      <td>NaN</td>\n",
              "      <td>NaN</td>\n",
              "      <td>NaN</td>\n",
              "      <td>NaN</td>\n",
              "      <td>NaN</td>\n",
              "      <td>NaN</td>\n",
              "      <td>NaN</td>\n",
              "      <td>NaN</td>\n",
              "      <td>...</td>\n",
              "      <td>40578801.0</td>\n",
              "      <td>62.215477</td>\n",
              "      <td>16.752001</td>\n",
              "      <td>NaN</td>\n",
              "      <td>1516.273315</td>\n",
              "      <td>NaN</td>\n",
              "      <td>10.9</td>\n",
              "      <td>48.214695</td>\n",
              "      <td>0.39</td>\n",
              "      <td>NaN</td>\n",
              "    </tr>\n",
              "    <tr>\n",
              "      <th>3</th>\n",
              "      <td>Afghanistan</td>\n",
              "      <td>2020-01-04</td>\n",
              "      <td>0.0</td>\n",
              "      <td>0.0</td>\n",
              "      <td>NaN</td>\n",
              "      <td>0.0</td>\n",
              "      <td>0.0</td>\n",
              "      <td>NaN</td>\n",
              "      <td>0.0</td>\n",
              "      <td>0.0</td>\n",
              "      <td>...</td>\n",
              "      <td>40578801.0</td>\n",
              "      <td>62.215477</td>\n",
              "      <td>16.752001</td>\n",
              "      <td>NaN</td>\n",
              "      <td>1516.273315</td>\n",
              "      <td>NaN</td>\n",
              "      <td>10.9</td>\n",
              "      <td>48.214695</td>\n",
              "      <td>0.39</td>\n",
              "      <td>NaN</td>\n",
              "    </tr>\n",
              "    <tr>\n",
              "      <th>4</th>\n",
              "      <td>Afghanistan</td>\n",
              "      <td>2020-01-05</td>\n",
              "      <td>0.0</td>\n",
              "      <td>0.0</td>\n",
              "      <td>NaN</td>\n",
              "      <td>0.0</td>\n",
              "      <td>0.0</td>\n",
              "      <td>NaN</td>\n",
              "      <td>0.0</td>\n",
              "      <td>0.0</td>\n",
              "      <td>...</td>\n",
              "      <td>40578801.0</td>\n",
              "      <td>62.215477</td>\n",
              "      <td>16.752001</td>\n",
              "      <td>NaN</td>\n",
              "      <td>1516.273315</td>\n",
              "      <td>NaN</td>\n",
              "      <td>10.9</td>\n",
              "      <td>48.214695</td>\n",
              "      <td>0.39</td>\n",
              "      <td>NaN</td>\n",
              "    </tr>\n",
              "    <tr>\n",
              "      <th>5</th>\n",
              "      <td>Afghanistan</td>\n",
              "      <td>2020-01-06</td>\n",
              "      <td>0.0</td>\n",
              "      <td>0.0</td>\n",
              "      <td>NaN</td>\n",
              "      <td>0.0</td>\n",
              "      <td>0.0</td>\n",
              "      <td>NaN</td>\n",
              "      <td>0.0</td>\n",
              "      <td>0.0</td>\n",
              "      <td>...</td>\n",
              "      <td>40578801.0</td>\n",
              "      <td>62.215477</td>\n",
              "      <td>16.752001</td>\n",
              "      <td>NaN</td>\n",
              "      <td>1516.273315</td>\n",
              "      <td>NaN</td>\n",
              "      <td>10.9</td>\n",
              "      <td>48.214695</td>\n",
              "      <td>0.39</td>\n",
              "      <td>NaN</td>\n",
              "    </tr>\n",
              "    <tr>\n",
              "      <th>6</th>\n",
              "      <td>Afghanistan</td>\n",
              "      <td>2020-01-07</td>\n",
              "      <td>0.0</td>\n",
              "      <td>0.0</td>\n",
              "      <td>NaN</td>\n",
              "      <td>0.0</td>\n",
              "      <td>0.0</td>\n",
              "      <td>NaN</td>\n",
              "      <td>0.0</td>\n",
              "      <td>0.0</td>\n",
              "      <td>...</td>\n",
              "      <td>40578801.0</td>\n",
              "      <td>62.215477</td>\n",
              "      <td>16.752001</td>\n",
              "      <td>NaN</td>\n",
              "      <td>1516.273315</td>\n",
              "      <td>NaN</td>\n",
              "      <td>10.9</td>\n",
              "      <td>48.214695</td>\n",
              "      <td>0.39</td>\n",
              "      <td>NaN</td>\n",
              "    </tr>\n",
              "    <tr>\n",
              "      <th>7</th>\n",
              "      <td>Afghanistan</td>\n",
              "      <td>2020-01-08</td>\n",
              "      <td>0.0</td>\n",
              "      <td>0.0</td>\n",
              "      <td>NaN</td>\n",
              "      <td>0.0</td>\n",
              "      <td>0.0</td>\n",
              "      <td>NaN</td>\n",
              "      <td>0.0</td>\n",
              "      <td>0.0</td>\n",
              "      <td>...</td>\n",
              "      <td>40578801.0</td>\n",
              "      <td>62.215477</td>\n",
              "      <td>16.752001</td>\n",
              "      <td>NaN</td>\n",
              "      <td>1516.273315</td>\n",
              "      <td>NaN</td>\n",
              "      <td>10.9</td>\n",
              "      <td>48.214695</td>\n",
              "      <td>0.39</td>\n",
              "      <td>NaN</td>\n",
              "    </tr>\n",
              "    <tr>\n",
              "      <th>8</th>\n",
              "      <td>Afghanistan</td>\n",
              "      <td>2020-01-09</td>\n",
              "      <td>0.0</td>\n",
              "      <td>0.0</td>\n",
              "      <td>0.0</td>\n",
              "      <td>0.0</td>\n",
              "      <td>0.0</td>\n",
              "      <td>0.0</td>\n",
              "      <td>0.0</td>\n",
              "      <td>0.0</td>\n",
              "      <td>...</td>\n",
              "      <td>40578801.0</td>\n",
              "      <td>62.215477</td>\n",
              "      <td>16.752001</td>\n",
              "      <td>NaN</td>\n",
              "      <td>1516.273315</td>\n",
              "      <td>NaN</td>\n",
              "      <td>10.9</td>\n",
              "      <td>48.214695</td>\n",
              "      <td>0.39</td>\n",
              "      <td>NaN</td>\n",
              "    </tr>\n",
              "    <tr>\n",
              "      <th>9</th>\n",
              "      <td>Afghanistan</td>\n",
              "      <td>2020-01-10</td>\n",
              "      <td>0.0</td>\n",
              "      <td>0.0</td>\n",
              "      <td>0.0</td>\n",
              "      <td>0.0</td>\n",
              "      <td>0.0</td>\n",
              "      <td>0.0</td>\n",
              "      <td>0.0</td>\n",
              "      <td>0.0</td>\n",
              "      <td>...</td>\n",
              "      <td>40578801.0</td>\n",
              "      <td>62.215477</td>\n",
              "      <td>16.752001</td>\n",
              "      <td>NaN</td>\n",
              "      <td>1516.273315</td>\n",
              "      <td>NaN</td>\n",
              "      <td>10.9</td>\n",
              "      <td>48.214695</td>\n",
              "      <td>0.39</td>\n",
              "      <td>NaN</td>\n",
              "    </tr>\n",
              "  </tbody>\n",
              "</table>\n",
              "<p>10 rows × 61 columns</p>\n",
              "</div>\n",
              "    <div class=\"colab-df-buttons\">\n",
              "\n",
              "  <div class=\"colab-df-container\">\n",
              "    <button class=\"colab-df-convert\" onclick=\"convertToInteractive('df-83791b93-2956-4b23-8d89-fc2b53bc3b32')\"\n",
              "            title=\"Convert this dataframe to an interactive table.\"\n",
              "            style=\"display:none;\">\n",
              "\n",
              "  <svg xmlns=\"http://www.w3.org/2000/svg\" height=\"24px\" viewBox=\"0 -960 960 960\">\n",
              "    <path d=\"M120-120v-720h720v720H120Zm60-500h600v-160H180v160Zm220 220h160v-160H400v160Zm0 220h160v-160H400v160ZM180-400h160v-160H180v160Zm440 0h160v-160H620v160ZM180-180h160v-160H180v160Zm440 0h160v-160H620v160Z\"/>\n",
              "  </svg>\n",
              "    </button>\n",
              "\n",
              "  <style>\n",
              "    .colab-df-container {\n",
              "      display:flex;\n",
              "      gap: 12px;\n",
              "    }\n",
              "\n",
              "    .colab-df-convert {\n",
              "      background-color: #E8F0FE;\n",
              "      border: none;\n",
              "      border-radius: 50%;\n",
              "      cursor: pointer;\n",
              "      display: none;\n",
              "      fill: #1967D2;\n",
              "      height: 32px;\n",
              "      padding: 0 0 0 0;\n",
              "      width: 32px;\n",
              "    }\n",
              "\n",
              "    .colab-df-convert:hover {\n",
              "      background-color: #E2EBFA;\n",
              "      box-shadow: 0px 1px 2px rgba(60, 64, 67, 0.3), 0px 1px 3px 1px rgba(60, 64, 67, 0.15);\n",
              "      fill: #174EA6;\n",
              "    }\n",
              "\n",
              "    .colab-df-buttons div {\n",
              "      margin-bottom: 4px;\n",
              "    }\n",
              "\n",
              "    [theme=dark] .colab-df-convert {\n",
              "      background-color: #3B4455;\n",
              "      fill: #D2E3FC;\n",
              "    }\n",
              "\n",
              "    [theme=dark] .colab-df-convert:hover {\n",
              "      background-color: #434B5C;\n",
              "      box-shadow: 0px 1px 3px 1px rgba(0, 0, 0, 0.15);\n",
              "      filter: drop-shadow(0px 1px 2px rgba(0, 0, 0, 0.3));\n",
              "      fill: #FFFFFF;\n",
              "    }\n",
              "  </style>\n",
              "\n",
              "    <script>\n",
              "      const buttonEl =\n",
              "        document.querySelector('#df-83791b93-2956-4b23-8d89-fc2b53bc3b32 button.colab-df-convert');\n",
              "      buttonEl.style.display =\n",
              "        google.colab.kernel.accessAllowed ? 'block' : 'none';\n",
              "\n",
              "      async function convertToInteractive(key) {\n",
              "        const element = document.querySelector('#df-83791b93-2956-4b23-8d89-fc2b53bc3b32');\n",
              "        const dataTable =\n",
              "          await google.colab.kernel.invokeFunction('convertToInteractive',\n",
              "                                                    [key], {});\n",
              "        if (!dataTable) return;\n",
              "\n",
              "        const docLinkHtml = 'Like what you see? Visit the ' +\n",
              "          '<a target=\"_blank\" href=https://colab.research.google.com/notebooks/data_table.ipynb>data table notebook</a>'\n",
              "          + ' to learn more about interactive tables.';\n",
              "        element.innerHTML = '';\n",
              "        dataTable['output_type'] = 'display_data';\n",
              "        await google.colab.output.renderOutput(dataTable, element);\n",
              "        const docLink = document.createElement('div');\n",
              "        docLink.innerHTML = docLinkHtml;\n",
              "        element.appendChild(docLink);\n",
              "      }\n",
              "    </script>\n",
              "  </div>\n",
              "\n",
              "\n",
              "    <div id=\"df-b0e035f2-9db8-42f8-ace5-ca13059d12d3\">\n",
              "      <button class=\"colab-df-quickchart\" onclick=\"quickchart('df-b0e035f2-9db8-42f8-ace5-ca13059d12d3')\"\n",
              "                title=\"Suggest charts\"\n",
              "                style=\"display:none;\">\n",
              "\n",
              "<svg xmlns=\"http://www.w3.org/2000/svg\" height=\"24px\"viewBox=\"0 0 24 24\"\n",
              "     width=\"24px\">\n",
              "    <g>\n",
              "        <path d=\"M19 3H5c-1.1 0-2 .9-2 2v14c0 1.1.9 2 2 2h14c1.1 0 2-.9 2-2V5c0-1.1-.9-2-2-2zM9 17H7v-7h2v7zm4 0h-2V7h2v10zm4 0h-2v-4h2v4z\"/>\n",
              "    </g>\n",
              "</svg>\n",
              "      </button>\n",
              "\n",
              "<style>\n",
              "  .colab-df-quickchart {\n",
              "      --bg-color: #E8F0FE;\n",
              "      --fill-color: #1967D2;\n",
              "      --hover-bg-color: #E2EBFA;\n",
              "      --hover-fill-color: #174EA6;\n",
              "      --disabled-fill-color: #AAA;\n",
              "      --disabled-bg-color: #DDD;\n",
              "  }\n",
              "\n",
              "  [theme=dark] .colab-df-quickchart {\n",
              "      --bg-color: #3B4455;\n",
              "      --fill-color: #D2E3FC;\n",
              "      --hover-bg-color: #434B5C;\n",
              "      --hover-fill-color: #FFFFFF;\n",
              "      --disabled-bg-color: #3B4455;\n",
              "      --disabled-fill-color: #666;\n",
              "  }\n",
              "\n",
              "  .colab-df-quickchart {\n",
              "    background-color: var(--bg-color);\n",
              "    border: none;\n",
              "    border-radius: 50%;\n",
              "    cursor: pointer;\n",
              "    display: none;\n",
              "    fill: var(--fill-color);\n",
              "    height: 32px;\n",
              "    padding: 0;\n",
              "    width: 32px;\n",
              "  }\n",
              "\n",
              "  .colab-df-quickchart:hover {\n",
              "    background-color: var(--hover-bg-color);\n",
              "    box-shadow: 0 1px 2px rgba(60, 64, 67, 0.3), 0 1px 3px 1px rgba(60, 64, 67, 0.15);\n",
              "    fill: var(--button-hover-fill-color);\n",
              "  }\n",
              "\n",
              "  .colab-df-quickchart-complete:disabled,\n",
              "  .colab-df-quickchart-complete:disabled:hover {\n",
              "    background-color: var(--disabled-bg-color);\n",
              "    fill: var(--disabled-fill-color);\n",
              "    box-shadow: none;\n",
              "  }\n",
              "\n",
              "  .colab-df-spinner {\n",
              "    border: 2px solid var(--fill-color);\n",
              "    border-color: transparent;\n",
              "    border-bottom-color: var(--fill-color);\n",
              "    animation:\n",
              "      spin 1s steps(1) infinite;\n",
              "  }\n",
              "\n",
              "  @keyframes spin {\n",
              "    0% {\n",
              "      border-color: transparent;\n",
              "      border-bottom-color: var(--fill-color);\n",
              "      border-left-color: var(--fill-color);\n",
              "    }\n",
              "    20% {\n",
              "      border-color: transparent;\n",
              "      border-left-color: var(--fill-color);\n",
              "      border-top-color: var(--fill-color);\n",
              "    }\n",
              "    30% {\n",
              "      border-color: transparent;\n",
              "      border-left-color: var(--fill-color);\n",
              "      border-top-color: var(--fill-color);\n",
              "      border-right-color: var(--fill-color);\n",
              "    }\n",
              "    40% {\n",
              "      border-color: transparent;\n",
              "      border-right-color: var(--fill-color);\n",
              "      border-top-color: var(--fill-color);\n",
              "    }\n",
              "    60% {\n",
              "      border-color: transparent;\n",
              "      border-right-color: var(--fill-color);\n",
              "    }\n",
              "    80% {\n",
              "      border-color: transparent;\n",
              "      border-right-color: var(--fill-color);\n",
              "      border-bottom-color: var(--fill-color);\n",
              "    }\n",
              "    90% {\n",
              "      border-color: transparent;\n",
              "      border-bottom-color: var(--fill-color);\n",
              "    }\n",
              "  }\n",
              "</style>\n",
              "\n",
              "      <script>\n",
              "        async function quickchart(key) {\n",
              "          const quickchartButtonEl =\n",
              "            document.querySelector('#' + key + ' button');\n",
              "          quickchartButtonEl.disabled = true;  // To prevent multiple clicks.\n",
              "          quickchartButtonEl.classList.add('colab-df-spinner');\n",
              "          try {\n",
              "            const charts = await google.colab.kernel.invokeFunction(\n",
              "                'suggestCharts', [key], {});\n",
              "          } catch (error) {\n",
              "            console.error('Error during call to suggestCharts:', error);\n",
              "          }\n",
              "          quickchartButtonEl.classList.remove('colab-df-spinner');\n",
              "          quickchartButtonEl.classList.add('colab-df-quickchart-complete');\n",
              "        }\n",
              "        (() => {\n",
              "          let quickchartButtonEl =\n",
              "            document.querySelector('#df-b0e035f2-9db8-42f8-ace5-ca13059d12d3 button');\n",
              "          quickchartButtonEl.style.display =\n",
              "            google.colab.kernel.accessAllowed ? 'block' : 'none';\n",
              "        })();\n",
              "      </script>\n",
              "    </div>\n",
              "\n",
              "    </div>\n",
              "  </div>\n"
            ],
            "application/vnd.google.colaboratory.intrinsic+json": {
              "type": "dataframe",
              "variable_name": "full_Data"
            }
          },
          "metadata": {},
          "execution_count": 11
        }
      ]
    },
    {
      "cell_type": "code",
      "source": [
        "full_data.info()"
      ],
      "metadata": {
        "colab": {
          "base_uri": "https://localhost:8080/"
        },
        "id": "ql3W3PXhOrnI",
        "outputId": "0d98f9ae-8dc3-471f-9564-8395ac40614b"
      },
      "execution_count": null,
      "outputs": [
        {
          "output_type": "stream",
          "name": "stdout",
          "text": [
            "<class 'pandas.core.frame.DataFrame'>\n",
            "RangeIndex: 515215 entries, 0 to 515214\n",
            "Data columns (total 61 columns):\n",
            " #   Column                                      Non-Null Count   Dtype  \n",
            "---  ------                                      --------------   -----  \n",
            " 0   country                                     515215 non-null  object \n",
            " 1   date                                        515215 non-null  object \n",
            " 2   total_cases                                 500739 non-null  float64\n",
            " 3   new_cases                                   497709 non-null  float64\n",
            " 4   new_cases_smoothed                          496504 non-null  float64\n",
            " 5   total_cases_per_million                     500739 non-null  float64\n",
            " 6   new_cases_per_million                       497709 non-null  float64\n",
            " 7   new_cases_smoothed_per_million              496504 non-null  float64\n",
            " 8   total_deaths                                500739 non-null  float64\n",
            " 9   new_deaths                                  498517 non-null  float64\n",
            " 10  new_deaths_smoothed                         497305 non-null  float64\n",
            " 11  total_deaths_per_million                    500739 non-null  float64\n",
            " 12  new_deaths_per_million                      498517 non-null  float64\n",
            " 13  new_deaths_smoothed_per_million             497305 non-null  float64\n",
            " 14  excess_mortality                            13636 non-null   float64\n",
            " 15  excess_mortality_cumulative                 13636 non-null   float64\n",
            " 16  excess_mortality_cumulative_absolute        13636 non-null   float64\n",
            " 17  excess_mortality_cumulative_per_million     13602 non-null   float64\n",
            " 18  hosp_patients                               40656 non-null   float64\n",
            " 19  hosp_patients_per_million                   40656 non-null   float64\n",
            " 20  weekly_hosp_admissions                      24497 non-null   float64\n",
            " 21  weekly_hosp_admissions_per_million          24497 non-null   float64\n",
            " 22  icu_patients                                39116 non-null   float64\n",
            " 23  icu_patients_per_million                    39116 non-null   float64\n",
            " 24  weekly_icu_admissions                       10993 non-null   float64\n",
            " 25  weekly_icu_admissions_per_million           10993 non-null   float64\n",
            " 26  stringency_index                            202760 non-null  float64\n",
            " 27  reproduction_rate                           185683 non-null  float64\n",
            " 28  total_tests                                 79387 non-null   float64\n",
            " 29  new_tests                                   75403 non-null   float64\n",
            " 30  total_tests_per_thousand                    79387 non-null   float64\n",
            " 31  new_tests_per_thousand                      75403 non-null   float64\n",
            " 32  new_tests_smoothed                          103965 non-null  float64\n",
            " 33  new_tests_smoothed_per_thousand             103965 non-null  float64\n",
            " 34  positive_rate                               101560 non-null  float64\n",
            " 35  tests_per_case                              100645 non-null  float64\n",
            " 36  total_vaccinations                          83222 non-null   float64\n",
            " 37  people_vaccinated                           79011 non-null   float64\n",
            " 38  people_fully_vaccinated                     77011 non-null   float64\n",
            " 39  total_boosters                              58784 non-null   float64\n",
            " 40  new_vaccinations                            68876 non-null   float64\n",
            " 41  new_vaccinations_smoothed                   202840 non-null  float64\n",
            " 42  total_vaccinations_per_hundred              83222 non-null   float64\n",
            " 43  people_vaccinated_per_hundred               79011 non-null   float64\n",
            " 44  people_fully_vaccinated_per_hundred         77011 non-null   float64\n",
            " 45  total_boosters_per_hundred                  58784 non-null   float64\n",
            " 46  new_vaccinations_smoothed_per_million       202840 non-null  float64\n",
            " 47  new_people_vaccinated_smoothed              202840 non-null  float64\n",
            " 48  new_people_vaccinated_smoothed_per_hundred  202840 non-null  float64\n",
            " 49  code                                        492471 non-null  object \n",
            " 50  continent                                   476311 non-null  object \n",
            " 51  population                                  498432 non-null  float64\n",
            " 52  population_density                          490379 non-null  float64\n",
            " 53  median_age                                  492399 non-null  float64\n",
            " 54  life_expectancy                             0 non-null       float64\n",
            " 55  gdp_per_capita                              402286 non-null  float64\n",
            " 56  extreme_poverty                             330192 non-null  float64\n",
            " 57  diabetes_prevalence                         434531 non-null  float64\n",
            " 58  handwashing_facilities                      233059 non-null  float64\n",
            " 59  hospital_beds_per_thousand                  311572 non-null  float64\n",
            " 60  human_development_index                     0 non-null       float64\n",
            "dtypes: float64(57), object(4)\n",
            "memory usage: 239.8+ MB\n"
          ]
        }
      ]
    },
    {
      "cell_type": "code",
      "source": [
        "full_data['date'] = pd.to_datetime(full_data['date'])\n",
        "\n",
        "full_data.info()"
      ],
      "metadata": {
        "colab": {
          "base_uri": "https://localhost:8080/"
        },
        "id": "7RjTRCV1PVQx",
        "outputId": "6fc554b6-85b4-4a8a-fa84-5f4df27a35dc"
      },
      "execution_count": null,
      "outputs": [
        {
          "output_type": "stream",
          "name": "stdout",
          "text": [
            "<class 'pandas.core.frame.DataFrame'>\n",
            "RangeIndex: 515215 entries, 0 to 515214\n",
            "Data columns (total 61 columns):\n",
            " #   Column                                      Non-Null Count   Dtype         \n",
            "---  ------                                      --------------   -----         \n",
            " 0   country                                     515215 non-null  object        \n",
            " 1   date                                        515215 non-null  datetime64[ns]\n",
            " 2   total_cases                                 500739 non-null  float64       \n",
            " 3   new_cases                                   497709 non-null  float64       \n",
            " 4   new_cases_smoothed                          496504 non-null  float64       \n",
            " 5   total_cases_per_million                     500739 non-null  float64       \n",
            " 6   new_cases_per_million                       497709 non-null  float64       \n",
            " 7   new_cases_smoothed_per_million              496504 non-null  float64       \n",
            " 8   total_deaths                                500739 non-null  float64       \n",
            " 9   new_deaths                                  498517 non-null  float64       \n",
            " 10  new_deaths_smoothed                         497305 non-null  float64       \n",
            " 11  total_deaths_per_million                    500739 non-null  float64       \n",
            " 12  new_deaths_per_million                      498517 non-null  float64       \n",
            " 13  new_deaths_smoothed_per_million             497305 non-null  float64       \n",
            " 14  excess_mortality                            13636 non-null   float64       \n",
            " 15  excess_mortality_cumulative                 13636 non-null   float64       \n",
            " 16  excess_mortality_cumulative_absolute        13636 non-null   float64       \n",
            " 17  excess_mortality_cumulative_per_million     13602 non-null   float64       \n",
            " 18  hosp_patients                               40656 non-null   float64       \n",
            " 19  hosp_patients_per_million                   40656 non-null   float64       \n",
            " 20  weekly_hosp_admissions                      24497 non-null   float64       \n",
            " 21  weekly_hosp_admissions_per_million          24497 non-null   float64       \n",
            " 22  icu_patients                                39116 non-null   float64       \n",
            " 23  icu_patients_per_million                    39116 non-null   float64       \n",
            " 24  weekly_icu_admissions                       10993 non-null   float64       \n",
            " 25  weekly_icu_admissions_per_million           10993 non-null   float64       \n",
            " 26  stringency_index                            202760 non-null  float64       \n",
            " 27  reproduction_rate                           185683 non-null  float64       \n",
            " 28  total_tests                                 79387 non-null   float64       \n",
            " 29  new_tests                                   75403 non-null   float64       \n",
            " 30  total_tests_per_thousand                    79387 non-null   float64       \n",
            " 31  new_tests_per_thousand                      75403 non-null   float64       \n",
            " 32  new_tests_smoothed                          103965 non-null  float64       \n",
            " 33  new_tests_smoothed_per_thousand             103965 non-null  float64       \n",
            " 34  positive_rate                               101560 non-null  float64       \n",
            " 35  tests_per_case                              100645 non-null  float64       \n",
            " 36  total_vaccinations                          83222 non-null   float64       \n",
            " 37  people_vaccinated                           79011 non-null   float64       \n",
            " 38  people_fully_vaccinated                     77011 non-null   float64       \n",
            " 39  total_boosters                              58784 non-null   float64       \n",
            " 40  new_vaccinations                            68876 non-null   float64       \n",
            " 41  new_vaccinations_smoothed                   202840 non-null  float64       \n",
            " 42  total_vaccinations_per_hundred              83222 non-null   float64       \n",
            " 43  people_vaccinated_per_hundred               79011 non-null   float64       \n",
            " 44  people_fully_vaccinated_per_hundred         77011 non-null   float64       \n",
            " 45  total_boosters_per_hundred                  58784 non-null   float64       \n",
            " 46  new_vaccinations_smoothed_per_million       202840 non-null  float64       \n",
            " 47  new_people_vaccinated_smoothed              202840 non-null  float64       \n",
            " 48  new_people_vaccinated_smoothed_per_hundred  202840 non-null  float64       \n",
            " 49  code                                        492471 non-null  object        \n",
            " 50  continent                                   476311 non-null  object        \n",
            " 51  population                                  498432 non-null  float64       \n",
            " 52  population_density                          490379 non-null  float64       \n",
            " 53  median_age                                  492399 non-null  float64       \n",
            " 54  life_expectancy                             0 non-null       float64       \n",
            " 55  gdp_per_capita                              402286 non-null  float64       \n",
            " 56  extreme_poverty                             330192 non-null  float64       \n",
            " 57  diabetes_prevalence                         434531 non-null  float64       \n",
            " 58  handwashing_facilities                      233059 non-null  float64       \n",
            " 59  hospital_beds_per_thousand                  311572 non-null  float64       \n",
            " 60  human_development_index                     0 non-null       float64       \n",
            "dtypes: datetime64[ns](1), float64(57), object(3)\n",
            "memory usage: 239.8+ MB\n"
          ]
        }
      ]
    },
    {
      "cell_type": "code",
      "source": [
        "full_data['country'].nunique()"
      ],
      "metadata": {
        "colab": {
          "base_uri": "https://localhost:8080/"
        },
        "id": "upzHitKcPaYx",
        "outputId": "7325b6ac-a521-4f90-fe1d-b72c49716c20"
      },
      "execution_count": null,
      "outputs": [
        {
          "output_type": "execute_result",
          "data": {
            "text/plain": [
              "262"
            ]
          },
          "metadata": {},
          "execution_count": 17
        }
      ]
    },
    {
      "cell_type": "code",
      "source": [
        "full_data['country'].nunique()"
      ],
      "metadata": {
        "colab": {
          "base_uri": "https://localhost:8080/"
        },
        "id": "DDRujG9AP9lF",
        "outputId": "e27d8294-0de5-4487-a6b7-fc10fa394098"
      },
      "execution_count": null,
      "outputs": [
        {
          "output_type": "execute_result",
          "data": {
            "text/plain": [
              "262"
            ]
          },
          "metadata": {},
          "execution_count": 18
        }
      ]
    },
    {
      "cell_type": "code",
      "source": [
        "pd.to_datetime('2023-12-31')"
      ],
      "metadata": {
        "colab": {
          "base_uri": "https://localhost:8080/"
        },
        "id": "Ewd6y2oVQESI",
        "outputId": "f2cbc85c-89a4-4b56-d93e-1048ebc71f4f"
      },
      "execution_count": null,
      "outputs": [
        {
          "output_type": "error",
          "ename": "NameError",
          "evalue": "name 'pd' is not defined",
          "traceback": [
            "\u001b[0;31m---------------------------------------------------------------------------\u001b[0m",
            "\u001b[0;31mNameError\u001b[0m                                 Traceback (most recent call last)",
            "\u001b[0;32m/tmp/ipython-input-1-1987290851.py\u001b[0m in \u001b[0;36m<cell line: 0>\u001b[0;34m()\u001b[0m\n\u001b[0;32m----> 1\u001b[0;31m \u001b[0mpd\u001b[0m\u001b[0;34m.\u001b[0m\u001b[0mto_datetime\u001b[0m\u001b[0;34m(\u001b[0m\u001b[0;34m'2023-12-31'\u001b[0m\u001b[0;34m)\u001b[0m\u001b[0;34m\u001b[0m\u001b[0;34m\u001b[0m\u001b[0m\n\u001b[0m",
            "\u001b[0;31mNameError\u001b[0m: name 'pd' is not defined"
          ]
        }
      ]
    },
    {
      "cell_type": "code",
      "source": [
        "filter_data = full_data[full_data['date'] < pd.to_datetime('2024-01-01')]"
      ],
      "metadata": {
        "id": "T3OSrMPEQqmP"
      },
      "execution_count": null,
      "outputs": []
    },
    {
      "cell_type": "code",
      "source": [
        "filter_data.shape"
      ],
      "metadata": {
        "id": "-vpcl9lUGckE"
      },
      "execution_count": null,
      "outputs": []
    },
    {
      "cell_type": "code",
      "source": [
        "filter_data['date'].max()"
      ],
      "metadata": {
        "id": "_3uKycwBGlrW"
      },
      "execution_count": null,
      "outputs": []
    },
    {
      "cell_type": "code",
      "source": [
        "filter_data.columns"
      ],
      "metadata": {
        "id": "1do0J4qwGlj3"
      },
      "execution_count": null,
      "outputs": []
    },
    {
      "cell_type": "code",
      "source": [
        "columns_to_select = ['country', 'date', 'total_cases', 'new_cases', 'total_cases_per_million',\n",
        "                     'total_deaths', 'new_deaths', 'total_deaths_per_million','new_deaths_per_million',\n",
        "                     'total_tests', 'new_tests','total_tests_per_thousand', 'new_tests_per_thousand',\n",
        "                     'total_vaccinations','people_vaccinated','total_vaccinations_per_hundred', 'people_vaccinated_per_hundred',\n",
        "                     'continent','population','human_development_index']\n",
        "\n",
        "len(columns_to_select)"
      ],
      "metadata": {
        "id": "I4RIg6-5GulD"
      },
      "execution_count": null,
      "outputs": []
    },
    {
      "cell_type": "code",
      "source": [
        "filter_data = filter_data[columns_to_select]\n",
        "\n",
        "filter_data.shape"
      ],
      "metadata": {
        "id": "bvOKQKThGySW"
      },
      "execution_count": null,
      "outputs": []
    },
    {
      "cell_type": "code",
      "source": [
        "filter_data.info()"
      ],
      "metadata": {
        "id": "R2_ZJxV_HDeF"
      },
      "execution_count": null,
      "outputs": []
    },
    {
      "cell_type": "code",
      "source": [
        "filter_data.isnull().sum()"
      ],
      "metadata": {
        "id": "VLckcI0xHI30"
      },
      "execution_count": null,
      "outputs": []
    },
    {
      "cell_type": "code",
      "source": [
        "filter_data[filter_data['human_development_index'].isnull()][['country', 'human_development_index']]"
      ],
      "metadata": {
        "id": "U9Ptwd-RHakL"
      },
      "execution_count": null,
      "outputs": []
    },
    {
      "cell_type": "code",
      "source": [
        "filter_data[filter_data['human_development_index'].isnull()]['country'].unique()"
      ],
      "metadata": {
        "id": "LOcWwi9HHbbI"
      },
      "execution_count": null,
      "outputs": []
    },
    {
      "cell_type": "code",
      "source": [
        "filter_data[filter_data['population'].isnull()]['country'].unique()"
      ],
      "metadata": {
        "id": "6Pd6KmMIHna9"
      },
      "execution_count": null,
      "outputs": []
    },
    {
      "cell_type": "code",
      "source": [
        "filter_data[filter_data['continent'].isnull()]['country'].unique()"
      ],
      "metadata": {
        "id": "hQ41FVJzHtBj"
      },
      "execution_count": null,
      "outputs": []
    },
    {
      "cell_type": "code",
      "source": [
        "filter_data[filter_data['country']=='World'].head(10)"
      ],
      "metadata": {
        "id": "DPnYOnH6Hxoh"
      },
      "execution_count": null,
      "outputs": []
    },
    {
      "cell_type": "code",
      "source": [
        "world_data = filter_data[filter_data['country']=='World']\n",
        "\n",
        "world_data"
      ],
      "metadata": {
        "id": "u3Mk-QrEH2ly"
      },
      "execution_count": null,
      "outputs": []
    },
    {
      "cell_type": "code",
      "source": [
        "plt.figure(figsize=(10,8))\n",
        "\n",
        "plt.plot_date(x=world_data['date'], y=world_data['total_cases'], fmt='b-')\n",
        "\n",
        "plt.show()"
      ],
      "metadata": {
        "id": "8x4urLwNH5il"
      },
      "execution_count": null,
      "outputs": []
    },
    {
      "cell_type": "code",
      "source": [
        "filter_data = filter_data.fillna(0)"
      ],
      "metadata": {
        "id": "xzWQO_XGH-hv"
      },
      "execution_count": null,
      "outputs": []
    },
    {
      "cell_type": "code",
      "source": [
        "filter_data.groupby(\"country\").agg('max')['total_cases'].reset_index().sort_values(by='total_cases', ascending=False).head(50)"
      ],
      "metadata": {
        "id": "qOHgY688ICCn"
      },
      "execution_count": null,
      "outputs": []
    },
    {
      "cell_type": "code",
      "source": [
        "countries = ['World', 'Asia', 'Africa', 'Europe', 'North America', 'South America', 'Oceania',\n",
        "             'United States', 'China', 'India', 'France', 'Germany', 'Brazil', 'South Korea', 'Japan',\n",
        "             'Italy', 'United Kingdom']"
      ],
      "metadata": {
        "id": "841jd6dZIMa5"
      },
      "execution_count": null,
      "outputs": []
    },
    {
      "cell_type": "code",
      "source": [
        "final_data = filter_data[filter_data['country'].isin(countries)]"
      ],
      "metadata": {
        "id": "FSxnWNDNIR3U"
      },
      "execution_count": null,
      "outputs": []
    },
    {
      "cell_type": "code",
      "source": [
        "final_data['country'].unique()"
      ],
      "metadata": {
        "id": "g1-rPrTAIUa1"
      },
      "execution_count": null,
      "outputs": []
    },
    {
      "cell_type": "code",
      "source": [
        "final_data.shape"
      ],
      "metadata": {
        "id": "KEIF5R5EIZnh"
      },
      "execution_count": null,
      "outputs": []
    },
    {
      "cell_type": "code",
      "source": [
        "final_data.groupby('country').agg({'total_cases': 'max', 'date': ['min', 'max', 'count']})"
      ],
      "metadata": {
        "id": "lM9_UokdIeqQ"
      },
      "execution_count": null,
      "outputs": []
    },
    {
      "cell_type": "code",
      "source": [
        "final_data.to_csv(\"/content/covid19_final_dataset.csv\")"
      ],
      "metadata": {
        "id": "heHiMBhPIi2q"
      },
      "execution_count": null,
      "outputs": []
    }
  ]
}